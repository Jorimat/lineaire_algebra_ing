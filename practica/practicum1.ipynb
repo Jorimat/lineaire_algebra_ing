{
 "cells": [
  {
   "cell_type": "code",
   "execution_count": 1,
   "id": "4225c3e6",
   "metadata": {},
   "outputs": [
    {
     "name": "stdout",
     "output_type": "stream",
     "text": [
      "Requirement already satisfied: sympy in /home/joris/venvs/la_practica/lib/python3.10/site-packages (1.11.1)\r\n",
      "Requirement already satisfied: mpmath>=0.19 in /home/joris/venvs/la_practica/lib/python3.10/site-packages (from sympy) (1.2.1)\r\n"
     ]
    }
   ],
   "source": [
    "! pip install sympy"
   ]
  },
  {
   "cell_type": "markdown",
   "id": "12211813",
   "metadata": {},
   "source": [
    "Oplossen van lineaire stelsels en bewerkingen met matrices in Python\n",
    "====================================================================\n",
    "\n",
    "Inleiding\n",
    "---------\n",
    "\n",
    "In de oefeningenlessen is het oplossen van stelsels van lineaire\n",
    "vergelijkingen uitgebreid aan bod gekomen. Voor stelsels met een beperkt\n",
    "aantal vergelijkingen en onbekenden kon het vinden van de oplossing(en)\n",
    "gemakkelijk met de hand gedaan worden. Echter, in de praktijk hebben we\n",
    "te maken met stelsels van tientallen of zelfs honderden vergelijkingen.\n",
    "Het oplossen van dergelijke stelsels is niet langer mogelijk met de\n",
    "hand. In dat geval dienen we onze toevlucht te zoeken tot een computer,\n",
    "waarmee de berekeningen efficiënter en veel sneller kunnen uitgevoerd\n",
    "worden.\n",
    "\n",
    "In dit practicum zullen we leren hoe we matrices en vectoren kunnen\n",
    "ingeven en hoe we stelsels kunnen voorstellen en oplossen in Python.\n",
    "Alle functies en functionaliteiten die we nodig zullen hebben zitten in\n",
    "het pakket `sympy`. Vermits dit pakket niet standaard geladen wordt,\n",
    "dienen we dit te importeren. Dit kan gerealiseerd worden door de\n",
    "instructie `from sympy import *` in te geven en uit te voeren in een\n",
    "Python console. We benadrukken dat deze instructie steeds moet\n",
    "uitgevoerd worden wanneer we Spyder opstarten, of de eerste regel code\n",
    "moet zijn van de programma's die we schrijven."
   ]
  },
  {
   "cell_type": "markdown",
   "id": "10675ce5",
   "metadata": {},
   "source": [
    "Matrices in Python\n",
    "------------------\n",
    "\n",
    "### Ingeven van vectoren en matrices\n",
    "\n",
    "Matrices kunnen ingegeven worden met de instructie `Matrix` uit het\n",
    "pakket `sympy`. Het buitenste paar rechte haken definieert de matrix en\n",
    "de binnenste paren rechte haken duiden de rijen van de matrix $A$ aan.\n",
    "Dit is heel gelijkaardig aan een lijst van lijsten.\n",
    "\n",
    "Willen we bijvoorbeeld de $3 \\times 3$ matrix $A$\n",
    "\n",
    "$$A = \n",
    "\\begin{bmatrix}\n",
    "1 & 2 & 2 \\\\\n",
    "1 & 3 & 3 \\\\\n",
    "2 & 6 & 5 \n",
    "\\end{bmatrix}$$\n",
    "\n",
    "ingeven, dan kan dit eenvoudig als volgt:"
   ]
  },
  {
   "cell_type": "code",
   "execution_count": 2,
   "id": "2ebce68c",
   "metadata": {},
   "outputs": [
    {
     "data": {
      "text/latex": [
       "$\\displaystyle \\left[\\begin{matrix}1 & 2 & 2\\\\1 & 3 & 3\\\\2 & 6 & 5\\end{matrix}\\right]$"
      ],
      "text/plain": [
       "Matrix([\n",
       "[1, 2, 2],\n",
       "[1, 3, 3],\n",
       "[2, 6, 5]])"
      ]
     },
     "execution_count": 2,
     "metadata": {},
     "output_type": "execute_result"
    }
   ],
   "source": [
    "from sympy import *       # pakket sympy laden\n",
    "A = Matrix([[1, 2, 2], [1, 3, 3], [2, 6, 5]])\n",
    "A"
   ]
  },
  {
   "cell_type": "markdown",
   "id": "098f5b61",
   "metadata": {},
   "source": [
    "Een kolomvector kunnen we eenvoudigweg ingeven door deze te bekijken als\n",
    "een matrix met 1 kolom. Hierbij is 1 paar rechte haken voldoende."
   ]
  },
  {
   "cell_type": "code",
   "execution_count": 3,
   "id": "08ada8b8",
   "metadata": {
    "scrolled": true
   },
   "outputs": [
    {
     "data": {
      "text/latex": [
       "$\\displaystyle \\left[\\begin{matrix}4\\\\5\\\\6\\end{matrix}\\right]$"
      ],
      "text/plain": [
       "Matrix([\n",
       "[4],\n",
       "[5],\n",
       "[6]])"
      ]
     },
     "execution_count": 3,
     "metadata": {},
     "output_type": "execute_result"
    }
   ],
   "source": [
    "b = Matrix([4, 5, 6])\n",
    "b"
   ]
  },
  {
   "cell_type": "markdown",
   "id": "276a3a1e",
   "metadata": {},
   "source": [
    "### De uitgebreide (*augmented*) matrix\n",
    "\n",
    "Veronderstel dat we een stelsel hebben met $m$ vergelijkingen en $n$\n",
    "variabelen, met coëfficiëntenmatrix $A$ en vector van constanten\n",
    "$\\vec{b}$: $A\\vec{x} = \\vec{b}$. De **uitgebreide** matrix van het\n",
    "stelsel is dan de $m \\times (n+1)$ matrix waarvan de eerste $n$ kolommen\n",
    "de kolommen van $A$ zijn en de $(n+1)$-ste, i.e. laatste, kolom de\n",
    "kolomvector $\\vec{b}$ is. Voor het stelsel $$\\begin{array}{rcl}\n",
    "x_1 + 2x_2 + 2x_3 & = & 4, \\\\\n",
    "x_1 + 3x_2 + 3x_3 & = & 5, \\\\\n",
    "2x_1 + 6x_2 + 5x_3 & = & 6.\n",
    "\\end{array}$$\n",
    "\n",
    "wordt de uitgebreide matrix $A_b$ bijgevolg gegeven door\n",
    "\n",
    "$$A_b = \n",
    "\\begin{bmatrix}\n",
    "1 & 2 & 2 & 4 \\\\\n",
    "1 & 3 & 3 & 5 \\\\\n",
    "2 & 6 & 5 & 6\n",
    "\\end{bmatrix}$$\n",
    "\n",
    "De coëfficiëntenmatrix $A$ en de kolomvector $\\vec{b}$ kunnen\n",
    "eenvoudig samengevoegd worden tot de uitgebreide matrix. Hiervoor kunnen\n",
    "we gebruik maken van de instructie `Ab = A.row_join(b)`."
   ]
  },
  {
   "cell_type": "code",
   "execution_count": 4,
   "id": "4de4a691",
   "metadata": {},
   "outputs": [
    {
     "data": {
      "text/latex": [
       "$\\displaystyle \\left[\\begin{matrix}1 & 2 & 2 & 4\\\\1 & 3 & 3 & 5\\\\2 & 6 & 5 & 6\\end{matrix}\\right]$"
      ],
      "text/plain": [
       "Matrix([\n",
       "[1, 2, 2, 4],\n",
       "[1, 3, 3, 5],\n",
       "[2, 6, 5, 6]])"
      ]
     },
     "execution_count": 4,
     "metadata": {},
     "output_type": "execute_result"
    }
   ],
   "source": [
    "A = Matrix([[1, 2, 2], [1, 3, 3], [2, 6, 5]])\n",
    "b = Matrix([4, 5, 6])\n",
    "Ab = A.row_join(b)    # voeg kolomvector b toe aan A\n",
    "Ab"
   ]
  },
  {
   "cell_type": "markdown",
   "id": "855a2d31",
   "metadata": {},
   "source": [
    "Merk op dat het aantal rijen van $A$ gelijk moet zijn aan het aantal\n",
    "elementen uit $\\vec{b}$."
   ]
  },
  {
   "cell_type": "markdown",
   "id": "df32ec05",
   "metadata": {},
   "source": [
    "Oplossen van lineaire stelsels via de rij-gereduceerde echelonvorm\n",
    "------------------------------------------------------------------\n",
    "\n",
    "Door herhaaldelijk rij-operaties uit te voeren op de uitgebreide matrix\n",
    "$A_b$ kan deze in de **rij-gereduceerde (*row-reduced*) echelonvorm**\n",
    "gebracht worden (cfr. Sectie 1.3 uit de cursus). We krijgen op die\n",
    "manier een veel eenvoudiger stelsel van vergelijkingen waarvan de\n",
    "oplossingen identiek zijn aan deze van het oorspronkelijk stelsel.\n",
    "\n",
    "De rij-gereduceerde echelonvorm van een uitgebreide matrix $A_b$ kan ook\n",
    "bekomen worden met de instructie `Ab.rref()`. Deze functie geeft een\n",
    "*tuple* terug:\n",
    "\n",
    "-   het eerste element van de tuple is de rij-gereduceerde\n",
    "    **echelon**vorm,\n",
    "\n",
    "-   het tweede element van de tuple is een nieuwe tuple met de indices\n",
    "    van de **pivot**kolommen. Let op! In Python krijgt de eerste kolom\n",
    "    als index 0, de tweede kolom als index 1,\\...\n",
    "\n",
    "Het gebruik van de instructie `Ab.rref()` wordt geïllustreerd aan de\n",
    "hand van het volgende stelsel:\n",
    "\n",
    "$$\\begin{array}{rcl}\n",
    "x_1 + 2x_2 + 2x_3 & = & 4, \\\\\n",
    "x_1 + 3x_2 + 3x_3 & = & 5, \\\\\n",
    "2x_1 + 6x_2 + 5x_3 & = & 6.\n",
    "\\end{array}$$"
   ]
  },
  {
   "cell_type": "code",
   "execution_count": 5,
   "id": "818df5f9",
   "metadata": {},
   "outputs": [
    {
     "data": {
      "text/plain": [
       "(Matrix([\n",
       " [1, 0, 0,  2],\n",
       " [0, 1, 0, -3],\n",
       " [0, 0, 1,  4]]),\n",
       " (0, 1, 2))"
      ]
     },
     "execution_count": 5,
     "metadata": {},
     "output_type": "execute_result"
    }
   ],
   "source": [
    "Ab = Matrix([[1, 2, 2, 4], [1, 3, 3, 5], [2, 6, 5, 6]])\n",
    "Ab.rref()"
   ]
  },
  {
   "cell_type": "markdown",
   "id": "7253a4fa",
   "metadata": {},
   "source": [
    "De unieke oplossing van dit stelsel wordt gegeven door\n",
    "$$\\vec{x} = \\begin{bmatrix} 2 \\\\ -3 \\\\ 4\\end{bmatrix}.$$\n",
    "\n",
    "We weten echter dat er ook stelsels zijn die geen oplossingen hebben\n",
    "(i.e. **inconsistente** stelsels) en andere die **oneindig veel**\n",
    "oplossingen hebben."
   ]
  },
  {
   "cell_type": "markdown",
   "id": "d616c32d",
   "metadata": {},
   "source": [
    "<!-- [\\[opd:oneindig\\]]{#opd:oneindig label=\"opd:oneindig\"}\\ -->\n",
    "#### Opdracht 1.1\n",
    "\n",
    "Maak een script *`opdracht1.py`* aan waarin je de coëfficiëntenmatrices\n",
    "en de rechterleden van de volgende stelsels in Python ingeeft als\n",
    "*`A1`*, *`A2`*, *`A3`*, *`A4`* en *`b1`*, *`b2`*, *`b3`*, *`b4`*. Los\n",
    "vervolgens de onderstaande stelsels op met behulp van de\n",
    "rij-gereduceerde echelonvorm.\n",
    "\n",
    "(a)  $\\left\\{\\begin{array}{l}\n",
    "        4x_1 - 3x_2 + x_3 = -7, \\\\\n",
    "        5x_1 - 2x_2 + 5x_3 = -3, \\\\\n",
    "        -6x_1 + 2x_2 - 3x_3 = 10.\n",
    "    \\end{array}\\right.\\qquad\\Leftrightarrow \\qquad \\vec{x} = \\hspace{5cm}$\n",
    "\n",
    "\n",
    "(b)  $\\left\\{\\begin{array}{l}\n",
    "      x_1 + 3x_2 + x_3 = 1, \\\\\n",
    "      -4x_1 - 9x_2 + 2x_3 = -1, \\\\\n",
    "      -3x_2 - 6x_3 = 1.\n",
    "      \\end{array}\\right.\\qquad\\Leftrightarrow \\qquad \\vec{x} = \\hspace{5cm}$\n",
    "\n",
    "(c)  $\\left\\{\\begin{array}{l}\n",
    "        -x_1 + 5x_2 + 2x_3 - 13x_4 = 5,\\\\ \n",
    "        3x_1 - 4x_2 + 5x_3 + 6x_4 = -3.\n",
    "    \\end{array}\\right.\\qquad\\Leftrightarrow \\qquad \\vec{x} = \\hspace{5cm}$\n",
    "\n",
    "(d)  $\\left\\{\\begin{array}{l}\n",
    "        2x_1 + 3x_2 = 6, \\\\\n",
    "            -x_1 + 4x_2 = -14, \\\\\n",
    "            3x_1 + 10x_2 = -2, \\\\\n",
    "            3x_1 - x_2 = 20, \\\\\n",
    "            6x_1 + 9x_2 = 8.\n",
    "    \\end{array}\\right.\\qquad\\Leftrightarrow \\qquad \\vec{x} = \\hspace{5cm}$"
   ]
  },
  {
   "cell_type": "markdown",
   "id": "38cdea66",
   "metadata": {},
   "source": [
    "Toepassingen\n",
    "------------\n",
    "\n",
    "De stelsels die we tot hiertoe beschouwd hebben waren relatief eenvoudig\n",
    "met de hand op te lossen. In de praktijk hebben we meestal te maken met\n",
    "stelsels van tientallen of zelfs honderden vergelijkingen. De\n",
    "oplossingen zullen, in tegenstelling tot de voorbeelden in de voorgaande\n",
    "secties, zelden gehele waarden aannemen.\n",
    "\n",
    "### Elektrische netwerken\n",
    "\n",
    "Beschouw als voorbeeld het elektrisch netwerk in Fig. 1.1.\n"
   ]
  },
  {
   "cell_type": "markdown",
   "id": "d3c7d47e",
   "metadata": {},
   "source": [
    "\n",
    "<figure>\n",
    "<img src=\"figuren/1_10_oef6.png\" width=\"200\" height=\"400\">\n",
    "<p style=\"text-align: center;\"> Figuur 1.1 </p>\n",
    "</figure>"
   ]
  },
  {
   "cell_type": "markdown",
   "id": "44af0af0",
   "metadata": {},
   "source": [
    " \n",
    "Om de stroomsterktes $I_1$, $I_2$, $I_3$ en $I_4$ te bepalen kunnen we in\n",
    "elke lus gebruik maken van de spanningswet van Kirchhoff.\n",
    "\n",
    "<!-- ![Een elektrisch netwerk.](figuren/1_10_oef6.png){#fig:circuit -->\n",
    "<!-- width=\"5cm\"} -->\n",
    "\n",
    "-   lus 1: $6I_1 -I_2= 30$\n",
    "\n",
    "-   lus 2: $9I_2 - I_1 - 4I_3 = 20$\n",
    "\n",
    "-   lus 3: $7I_3 - 4I_2 -2 I_4 = 40$\n",
    "\n",
    "-   lus 4: $7I_4 - 2I_3 = 10$\n",
    "\n",
    "Het is duidelijk dat dit stelsel niet meer eenvoudig met de hand op te\n",
    "lossen is. Willen we dit stelsel oplossen met behulp van Python, dan\n",
    "dienen we eerst de vergelijkingen te herschikken zodanig dat we de\n",
    "uitgebreide matrix $A_b$ kunnen opstellen. \n",
    "\n",
    "$$\\begin{aligned}\n",
    "6I_1 -I_2 &=& 30\\\\\n",
    "- I_1 + 9I_2 - 4I_3 &=& 20\\\\  \n",
    "- 4I_2 + 7I_3 -2 I_4 &=& 40\\\\\n",
    "- 2I_3 + 7I_4 &=& 10\n",
    "\\end{aligned}$$ \n",
    "\n",
    "In matrixvorm bekomen we\n",
    "$$\\begin{bmatrix}6&-1&0&0 \\\\ -1&9&-4&0 \\\\ 0&-4&7&-2 \\\\ 0&0&-2&7\\end{bmatrix}\n",
    "\\begin{bmatrix}I_1\\\\I_2\\\\I_3\\\\I_4\\end{bmatrix} = \n",
    "\\begin{bmatrix}30\\\\20\\\\40\\\\10\\end{bmatrix}.$$"
   ]
  },
  {
   "cell_type": "markdown",
   "id": "c32ae372",
   "metadata": {},
   "source": [
    "Met behulp van Python vinden we dat $$\\vec{I}= \\begin{bmatrix}\n",
    "6.36  \\\\\n",
    "8.14 \\\\\n",
    "11.73 \\\\\n",
    "4.78 \\end{bmatrix}.$$"
   ]
  },
  {
   "cell_type": "markdown",
   "id": "af33b699",
   "metadata": {},
   "source": [
    "In de eerste lus is de stroomsterkte dus $6.36$ ampère, in de tweede lus\n",
    "$8.14$ ampère, in de derde lus $11.73$ ampère en in de vierde lus $4.78$\n",
    "ampère."
   ]
  },
  {
   "cell_type": "markdown",
   "id": "ea087e9f",
   "metadata": {},
   "source": [
    "<!-- [\\[opd:circuit\\]]{#opd:circuit label=\"opd:circuit\"}\\ -->\n",
    "#### Opdracht 1.2\n",
    "\n",
    "Beschouw het elektrisch netwerk in\n",
    "Fig. 1.2.\n",
    "<!-- (#fig:circuitoef){reference-type=\"ref\" -->\n",
    "<!-- reference=\"fig:circuitoef\"}. -->\n",
    "\n",
    "<!-- ![Een elektrisch netwerk.](figuren/1_10_oef8.png) -->\n",
    "<!-- {#fig:circuitoef -->\n",
    "<!-- width=\"10cm\"} -->\n",
    "\n",
    "<figure>\n",
    "<img src=\"figuren/1_10_oef8.png\" width=\"200\" height=\"400\">\n",
    "<p style=\"text-align: center;\"> Figuur 1.2 </p>\n",
    "</figure>\n",
    "\n",
    "\n",
    "\n",
    "Noteer hieronder het stelsel dat we bekomen als we de spanningswet van\n",
    "Kirchhoff toepassen op dit netwerk.\n",
    "\n",
    "Maak een script *`opdracht2.py`* aan waarin je de volgende\n",
    "deelopdrachten uitvoert.\n",
    "\n",
    "-   Geef de coëfficiëntenmatrix en het rechterlid van het bovenstaand\n",
    "    stelsel in als *`A`* en *`b`*.\n",
    "\n",
    "-   Los het stelsel op m.b.v. Python. Vul hieronder de oplossing die je\n",
    "    bekomt in (2 cijfers na de komma volstaan): $$\\vec{I} = \n",
    "    \\begin{bmatrix}\n",
    "    \\ldots\\ldots\\ldots\\ldots \\\\[0.3cm]\n",
    "    \\ldots\\ldots\\ldots\\ldots \\\\[0.3cm]\n",
    "    \\ldots\\ldots\\ldots\\ldots \\\\[0.3cm]\n",
    "    \\ldots\\ldots\\ldots\\ldots \\\\[0.3cm]\n",
    "    \\ldots\\ldots\\ldots\\ldots\n",
    "    \\end{bmatrix}$$\n",
    "\n",
    "-   Bereken *$A\\vec{I}$* en merk op dat dit (bij benadering wegens\n",
    "    afrondingsfouten) gelijk is aan *$\\vec{b}$*."
   ]
  },
  {
   "cell_type": "markdown",
   "id": "a2d0c944",
   "metadata": {},
   "source": [
    "### Balanceren van chemische vergelijkingen\n",
    "\n",
    "Het balanceren van chemische vergelijkingen is ongetwijfeld reeds aan\n",
    "bod gekomen in de lessen scheikunde. Voor eenvoudige chemische\n",
    "vergelijkingen is het balanceren eenvoudig op papier, maar voor meer\n",
    "ingewikkelde vergelijkingen kan dat rekenwerk al snel (te) moeilijk\n",
    "worden. Omdat het rekenwerk eigenlijk neerkomt op het oplossen van een\n",
    "lineair stelsel, kunnen we met behulp van de gereduceerde\n",
    "echelonreductie een oplossing vinden.\n",
    "\n",
    "<!-- [\\[opd:circuit\\]]{#opd:circuit label=\"opd:circuit\"}\\ -->\n",
    "\n",
    "#### Opdracht 1.3\n",
    "Onderstaande chemische reactie kan gebruikt worden in bepaalde\n",
    "industriële processen, zoals de productie van arsene (AsH$_3$).\n",
    "$$MnS + As_2Cr_{10}O_{35} + H_2SO_4 \\to HMnO_4 + AsH_3 + CrS_3O_{12} + H_2O$$\n",
    "Balanceer deze vergelijking. Noteer eerst in de onderstaande tabel het\n",
    "aantal atomen per molecule.\n",
    "\n",
    "$$\\begin{array}{r|ccccccc}\n",
    "         & MnS & As_2Cr_{10}O_{35} & H_2SO_4 & HMnO_4 & AsH_3 & CrS_3O_{12} & H_2O\\\\\n",
    "         \\hline\n",
    "         &&&&&&& \\\\[-0.3cm]\n",
    "         Mn\\text{-atomen} &&&&&&& \\\\[0.3cm]\n",
    "         S\\text{-atomen} &&&&&&& \\\\[0.3cm]\n",
    "         As\\text{-atomen} &&&&&&& \\\\[0.3cm]\n",
    "         Cr\\text{-atomen} &&&&&&& \\\\[0.3cm]\n",
    "         O\\text{-atomen} &&&&&&& \\\\[0.3cm]\n",
    "         H\\text{-atomen} &&&&&&& \n",
    "    \\end{array}$$\n",
    "\n",
    "Noteer hieronder het stelsel dat leidt tot de balancering van de gegeven\n",
    "chemische vergelijking.\n",
    "\n",
    "Maak een script *`opdracht3.py`* aan waarin je de volgende\n",
    "deelopdrachten uitvoert.\n",
    "\n",
    "-   Geef de coëfficiëntenmatrix en het rechterlid van bovenstaand\n",
    "    stelsel in als *`A`* en *`b`*.\n",
    "\n",
    "-   Los het stelsel op m.b.v. Python en vul de voorgetallen van de\n",
    "    chemische vergelijking hieronder in. $$\\begin{gathered}\n",
    "            \\ldots\\ldots MnS + \\ldots\\ldots As_2Cr_{10}O_{35} + \\ldots\\ldots H_2SO_4\\\\\n",
    "             \\to \\ldots\\ldots HMnO_4 + \\ldots\\ldots AsH_3 + \\ldots\\ldots CrS_3O_{12} + \\ldots\\ldots H_2O \\end{gathered}$$"
   ]
  },
  {
   "cell_type": "markdown",
   "id": "b8349da2",
   "metadata": {},
   "source": [
    "### Leontief input-output model\n",
    "\n",
    "Veronderstel dat er vijf sectoren zijn in een bepaalde economie: Auto,\n",
    "Staal, Elektriciteit, Steenkool en Chemie, en dat de input-output matrix\n",
    "$C$ gegeven wordt door:\n",
    "\n",
    "$$C = \n",
    "\\begin{bmatrix}\n",
    "0.15 & 0.10 & 0.05 & 0.05 & 0.10 \\\\\n",
    "0.40 & 0.20 & 0.10 & 0.10 & 0.10 \\\\\n",
    "0.10 & 0.25 & 0.20 & 0.10 & 0.20 \\\\\n",
    "0.10 & 0.20 & 0.30 & 0.15 & 0.10 \\\\\n",
    "0.05 & 0.10 & 0.05 & 0.02 & 0.05\n",
    "\\end{bmatrix}\\,.$$\n",
    "\n",
    "De eerste kolom van deze matrix kan geïnterpreteerd worden als het\n",
    "bedrag (in euro's) dat elke sector nodig heeft om 1 euro Auto te\n",
    "produceren: 15 cent Auto, 40 cent Staal, 10 cent Elektriciteit en\n",
    "Steenkool en 5 cent Chemie.\n",
    "\n",
    "Als we de finale vraag (*final demand*) voor de vijf sectoren\n",
    "voorstellen met $\\vec{d}$, dan bekomen we de volgende vergelijking:\n",
    "\n",
    "$$\\vec{x} = C\\vec{x} + \\vec{d}\\,.$$\n",
    "\n",
    "Voluit wordt dit:\n",
    "\n",
    "$$\\label{eq:leontief}\\tag{1}\n",
    "\\begin{bmatrix}\n",
    "x_1  \\\\\n",
    "x_2  \\\\\n",
    "x_3  \\\\\n",
    "x_4  \\\\\n",
    "x_5 \n",
    "\\end{bmatrix} =\n",
    "\\begin{bmatrix}\n",
    "0.15 & 0.10 & 0.05 & 0.05 & 0.10 \\\\\n",
    "0.40 & 0.20 & 0.10 & 0.10 & 0.10 \\\\\n",
    "0.10 & 0.25 & 0.20 & 0.10 & 0.20 \\\\\n",
    "0.10 & 0.20 & 0.30 & 0.15 & 0.10 \\\\\n",
    "0.05 & 0.10 & 0.05 & 0.02 & 0.05\n",
    "\\end{bmatrix}\n",
    "\\begin{bmatrix}\n",
    "x_1  \\\\\n",
    "x_2  \\\\\n",
    "x_3  \\\\\n",
    "x_4  \\\\\n",
    "x_5 \n",
    "\\end{bmatrix} + \n",
    "\\begin{bmatrix}\n",
    "d_1  \\\\\n",
    "d_2  \\\\\n",
    "d_3  \\\\\n",
    "d_4  \\\\\n",
    "d_5 \n",
    "\\end{bmatrix}\n",
    "\\,.$$\n",
    "\n",
    "In wat volgt, veronderstellen we dat: $$\\vec{d} = \n",
    "\\begin{bmatrix}\n",
    "100  \\\\\n",
    "200  \\\\\n",
    "300  \\\\\n",
    "400  \\\\\n",
    "500 \n",
    "\\end{bmatrix}\\,.$$\n",
    "\n",
    "<!-- [\\[opd:leontief\\]]{#opd:leontief label=\"opd:leontief\"}\\ -->\n",
    "#### Opdracht 1.4\n",
    "Maak een script *`opdracht4.py`* aan waarin je de volgende\n",
    "deelopdrachten uitvoert:\n",
    "\n",
    "-   Geef de input-output matrix en de final demand in als *`C`* en\n",
    "    *`d`*.\n",
    "\n",
    "-   Herschrijf het stelsel in vergelijking\n",
    "     \\ref{eq:leontief}\n",
    "    in de standaardvorm\n",
    "    *$A\\vec{x} = \\vec{b}$*.\n",
    "       \n",
    "    \n",
    "-   Los het stelsel op m.b.v. Python. Vul hieronder de oplossing die je\n",
    "    bekomt in (1 cijfer na de komma volstaat): $$\\vec{x} = \n",
    "    \\begin{bmatrix}\n",
    "    \\ldots\\ldots\\ldots\\ldots \\\\[0.3cm]\n",
    "    \\ldots\\ldots\\ldots\\ldots \\\\[0.3cm]\n",
    "    \\ldots\\ldots\\ldots\\ldots \\\\[0.3cm]\n",
    "    \\ldots\\ldots\\ldots\\ldots \\\\[0.3cm]\n",
    "    \\ldots\\ldots\\ldots\\ldots \n",
    "    \\end{bmatrix}$$\n",
    "\n",
    "-   Bereken *$C\\vec{x} + \\vec{d}$* en merk op dat dit (bij\n",
    "    benadering) gelijk is aan *$\\vec{x}$*.\n",
    "    \n",
    "    \n",
    "\n",
    "**Tip**: Met de instructie *`eye(n)`* kan een eenheidsmatrix van\n",
    "    dimensie $n$ aangemaakt worden."
   ]
  },
  {
   "cell_type": "code",
   "execution_count": 6,
   "id": "6021badb",
   "metadata": {},
   "outputs": [
    {
     "data": {
      "text/latex": [
       "$\\displaystyle \\left[\\begin{matrix}1 & 0 & 0\\\\0 & 1 & 0\\\\0 & 0 & 1\\end{matrix}\\right]$"
      ],
      "text/plain": [
       "Matrix([\n",
       "[1, 0, 0],\n",
       "[0, 1, 0],\n",
       "[0, 0, 1]])"
      ]
     },
     "execution_count": 6,
     "metadata": {},
     "output_type": "execute_result"
    }
   ],
   "source": [
    "eye(3)"
   ]
  },
  {
   "cell_type": "markdown",
   "id": "5b970ed2",
   "metadata": {},
   "source": [
    "Enkele interessante bewerkingen in Python\n",
    "-----------------------------------------\n",
    "\n",
    "Python heeft enkele interessante ingebouwde functies in het pakket\n",
    "`sympy` waarmee bepaalde bewerkingen met matrices eenvoudig kunnen\n",
    "gebeuren. Deze bewerkingen staan samengevat in Tabel 1.1.\n",
    "\n",
    "<!-- ::: {#tab:matrixbewerkingen} -->\n",
    "\n",
    "|           |            |\n",
    "|:----------|:-------------|\n",
    "|`A.transpose()`              |getransponeerde van de matrix $A$|\n",
    "|`A**(-1)`                    |inverse van de matrix $A$|\n",
    "|`A.det()`                    |determinant van de matrix $A$|\n",
    "|`A.nullspace()`              |basis voor de nulruimte van de matrix $A$|\n",
    "|`A.columnspace()`            |basis voor de kolomruimte van de matrix $A$|\n",
    "|`zeros(m,n)`                 |$m\\times n$ nulmatrix|\n",
    "|`ones(m,n)`                  |$m\\times n$ matrix met enkel enen|\n",
    "|`diag(a_1,a_2,\\ldots,a_n)`   |diagonaalmatrix met $a_1,a_2,\\ldots,a_n$ op de hoofddiagonaal|\n",
    "\n",
    "<p style=\"text-align: center;\"> Tabel 1.1: Enkele interessante bewerkingen met matrices. </p>"
   ]
  },
  {
   "cell_type": "markdown",
   "id": "bdbd2919",
   "metadata": {},
   "source": [
    "Verschillende van deze bewerkingen kunnen gebruikt worden bij het\n",
    "oplossen van matrixvergelijkingen. Willen we bijvoorbeeld de\n",
    "onderstaande matrixvergelijking, ook een Sylvester vergelijking genoemd\n",
    "omwille van de vorm, oplossen:\n",
    "\n",
    "$AX+XB=C$ $~~~~$ met $A=\\begin{bmatrix}2&4\\\\3&2\\end{bmatrix}$,$~~~~$ $B=\\begin{bmatrix}1&0\\\\2&1\\end{bmatrix}$ $~~~~$ en $~~~~$ $C=\\begin{bmatrix}7&5\\\\6&1\\end{bmatrix},$\n",
    "\n",
    "dan moeten we het onderstaande ingeven in Python."
   ]
  },
  {
   "cell_type": "code",
   "execution_count": 7,
   "id": "9acac7e2",
   "metadata": {},
   "outputs": [
    {
     "data": {
      "text/plain": [
       "{x1: -17, x2: -11/3, x3: 49/3, x4: 4}"
      ]
     },
     "execution_count": 7,
     "metadata": {},
     "output_type": "execute_result"
    }
   ],
   "source": [
    "A = Matrix([[2,4],[3,2]])\n",
    "B = Matrix([[1,0],[2,1]])\n",
    "C = Matrix([[7,5],[6,1]])\n",
    "x1,x2,x3,x4 = symbols('x1,x2,x3,x4')\n",
    "X = Matrix([[x1,x2],[x3,x4]])\n",
    "solve(A*X+X*B-C,x1,x2,x3,x4)"
   ]
  },
  {
   "cell_type": "markdown",
   "id": "192feca8",
   "metadata": {},
   "source": [
    "Hieruit kunnen we besluiten dat $$X=\\begin{bmatrix}-17 & -11/3\\\\49/3 & 4\\end{bmatrix}.$$ Het\n",
    "is belangrijk om reeds op voorhand te weten welke vorm de matrix $X$ zal\n",
    "hebben. Merk op dat voor het gebruik van `solve` de matrixvergelijking\n",
    "moet herschreven worden zodanig dat het rechterlid 0 is. Enkel het\n",
    "linkerlid wordt dan meegegeven als input bij `solve`."
   ]
  },
  {
   "cell_type": "markdown",
   "id": "3915a04c",
   "metadata": {},
   "source": [
    "<!-- [\\[opd:matrixvgl\\]]{#opd:matrixvgl label=\"opd:matrixvgl\"}\\ -->\n",
    "#### Opdracht 1.5\n",
    "Beschouw de matrixvergelijking \n",
    "\n",
    "$$A^{-1}XC+10B^T = 2DXE^{-1}$$\n",
    "\n",
    "met $A = \\begin{bmatrix}1 & 2 & 3 \\\\ 3 & 7 & 9 \\\\ 2 & 6 & 7\\end{bmatrix},\n",
    "\\quad B=\\begin{bmatrix} & 3 & -6 \\\\ 1 & 1 & -1\\end{bmatrix},\n",
    "\\quad C=\\begin{bmatrix}1 & -2 \\\\ 3 & 2\\end{bmatrix},\n",
    "\\quad D = \\begin{bmatrix}-19 & -29 & -39 \\\\ 15 & 21 & 27 \\\\ -16 & -23 & -30\\end{bmatrix}\\quad$\n",
    "en $\\quad E=\\begin{bmatrix}116 & 134 \\\\ 134 & 155\\end{bmatrix}.$\n",
    "\n",
    "Maak een script *`opdracht5.py`* aan waarin je de volgende\n",
    "deelopdrachten uitvoert:\n",
    "\n",
    "-   Geef de matrices $A$, $B$, $C$, $D$ en $E$ in. Denk na over de vorm\n",
    "    van de matrix $X$ en geef deze analoog als in het voorbeeld in.\n",
    "\n",
    "-   Los vervolgens de matrixvergelijking op naar $X$.\n",
    "\n",
    "<!--   $$X = \\hspace{10cm}$$ -->\n",
    "\n"
   ]
  },
  {
   "cell_type": "markdown",
   "id": "f6e26402",
   "metadata": {},
   "source": [
    "Extra oefeningen\n",
    "----------------\n",
    "\n",
    "1.  Bepaal voor de onderstaande kringen de stroom in elke lus.\n",
    "\n",
    "$~~~~~~~$(a)\n",
    "<figure>\n",
    "<img src=\"figuren/1_10_oef7.png\" width=\"200\" height=\"400\">\n",
    "</figure>\n",
    "\n",
    "$~~~~~~~$(b)\n",
    "<figure>\n",
    "<img src=\"figuren/1_10_oef5.png\" width=\"200\" height=\"400\">\n",
    "</figure>\n",
    "\n",
    "2.  Bepaal het algemene stroompatroon van het weergegeven netwerk.\n",
    "    Veronderstel dat alle stromen niet-negatief zijn. Wat is de kleinst\n",
    "    mogelijke waarde voor $x_4$?\n",
    "\n",
    "$~~~~~~~$(a)\n",
    "<figure>\n",
    "<img src=\"figuren/1_6_oef12.png\" width=\"200\" height=\"400\">\n",
    "</figure>\n",
    "\n",
    "$~~~~~~~$(b)\n",
    "<figure>\n",
    "<img src=\"figuren/1_6_oef12_2.png\" width=\"200\" height=\"400\">\n",
    "</figure>\n",
    "\n",
    "3.  Beschouw het onderstaand verkeersnetwerk.\n",
    "\n",
    "<figure>\n",
    "<img src=\"figuren/1_6_oef13.png\" width=\"200\" height=\"400\">\n",
    "</figure>\n",
    "\n",
    "\n",
    "$~~~~~~~$(a) Bepaal het algemene stroompatroon van het weergegeven netwerk.\n",
    "\n",
    "$~~~~~~~$(b) Veronderstel dat alle stromen niet-negatief zijn. Wat is de\n",
    "        kleinst mogelijke waarde voor $x_2$, $x_3$, $x_4$ en $x_5$?\n",
    "\n",
    "4.  Balanceer de gegeven chemische vergelijkingen, al dan niet door\n",
    "    gebruik te maken van Python.\n",
    "\n",
    "    (a) Al$_2$O$_3$ + C$\\; \\rightarrow  \\;$Al + CO$_2$\n",
    "\n",
    "    (b) H$_3$O + CaCO$_3 \\; \\rightarrow  \\;$H$_2$O + Ca + CO$_2$\n",
    "\n",
    "    (c) FeS$_2$ + O$_2 \\;\\rightarrow\\;$Fe$_2$O$_3$ + SO$_2$\n",
    "\n",
    "    (d) Na$_3$PO$_4$ + Ba$\\left(\\text{NO}_3\\right)_2 \\;\\rightarrow\\;$ Ba$_3\\left(\\text{PO}_4\\right)_2$ + NaNO$_3$\n",
    "\n",
    "    (e) KMnO$_4$ + MnSO$_4$ + H$_2$O $\\;\\rightarrow\\;$ MnO$_2$ + K$_2$SO$_4$ + H$_2$SO$_4$\n",
    "\n",
    "    (f) PbN$_6$ + CrMn$_2$O$_8$ $\\;\\rightarrow\\;$ Pb$_3$O$_4$ + Cr$_2$O$_3$ + MnO$_2$ + NO\n",
    "\n",
    "5.  Een portie geraspte tarwe bevat 160 calorieën, 5 gram eiwitten, 6\n",
    "    gram vezels en 1 gram vetten. Een portie Crispix bevat 110\n",
    "    calorieën, 2 gram eiwitten, 0.1 gram vezels en 0.4 gram vetten.\n",
    "\n",
    "$~~~~~~~$(a) Stel de matrix $B$ en een vector ${\\vec{u}}$ op zodat\n",
    "        $B {\\vec{u}}$ de hoeveelheid calorieën, eiwitten, vezels\n",
    "        en vetten weergeeft in een combinatie van drie porties geraspte\n",
    "        tarwe en twee porties Crispix.\n",
    "\n",
    "$~~~~~~~$\n",
    "(b) Stel dat je cornflakes wil met meer vezels dan Crispix, maar\n",
    "        minder calorieën dan geraspte tarwe. Is er een combinatie\n",
    "        mogelijk van beide graansoorten die 130 calorieën, 3.2 gram\n",
    "        eiwitten, 2.46 gram vezels en 0.64 gram vetten bevat? Zo ja, wat\n",
    "        is de combinatie?\n",
    "\n",
    "6.  Onderstel dat $T_1$, $T_2$, $T_3$ en $T_4$ de temperaturen zijn in\n",
    "    de vier inwendige knopen van het rooster. De temperatuur in een\n",
    "    knooppunt is het gemiddelde van de temperaturen in de vier dichtst\n",
    "    gelegen knopen. De temperaturen in de buitenste knopen zijn gegeven\n",
    "    op de onderstaande figuur. Bepaal $T_1$, $T_2$, $T_3$ en $T_4$.\n",
    "\n",
    "<figure>\n",
    "<img src=\"figuren/rooster.png\" width=\"200\" height=\"400\">\n",
    "</figure>"
   ]
  },
  {
   "cell_type": "markdown",
   "id": "3507b6b7",
   "metadata": {},
   "source": [
    "Oplossingen\n",
    "-----------\n",
    "\n",
    "1.\n",
    "\n",
    "$~~~~~~~$(a) Matrixvergelijking: $$\\left[\\begin{array}{cccc}\n",
    "                12 & -7 & 0 & -4  \\\\\n",
    "                -7 & 15 & -6 & 0  \\\\\n",
    "                0 & -6 & 14 & -5 \\\\\n",
    "                -4 & 0 & -5 & 13   \\end{array} \\right] \\left[\\begin{array}{c}\n",
    "                I_1  \\\\\n",
    "                I_2 \\\\\n",
    "                I_3 \\\\\n",
    "                I_4  \\end{array} \\right]  = \\left[\n",
    "                \\begin{array}{c}\n",
    "                40  \\\\\n",
    "                30 \\\\\n",
    "                20 \\\\\n",
    "                -10  \\end{array} \\right] \\quad\\Leftrightarrow\\quad\\begin{bmatrix}I_1\\\\I_2\\\\I_3\\\\I_4\\end{bmatrix} = \\begin{bmatrix}11.43 \\\\ 10.55 \\\\ 8.04 \\\\ 5.84\\end{bmatrix}$$\n",
    "\n",
    "$~~~~~~~$(b) Matrixvergelijking: $$\\left[\\begin{array}{cccc}\n",
    "                11 & -5 & 0 & 0  \\\\\n",
    "                -5 & 10 & -1 & 0  \\\\\n",
    "                0 & -1 & 9 & -2 \\\\\n",
    "                0 & 0 & -2 & 10   \\end{array} \\right] \\left[\\begin{array}{c}\n",
    "                I_1  \\\\\n",
    "                I_2 \\\\\n",
    "                I_3 \\\\\n",
    "                I_4  \\end{array} \\right]  = \\left[\n",
    "                \\begin{array}{c}\n",
    "                50  \\\\\n",
    "                -40 \\\\\n",
    "                30 \\\\\n",
    "                -30  \\end{array} \\right] \\quad\\Leftrightarrow\\quad\\begin{bmatrix}I_1\\\\I_2\\\\I_3\\\\I_4\\end{bmatrix} = \\begin{bmatrix}3.68  \\\\-1.9 \\\\2.57 \\\\-2.49\\end{bmatrix}$$\n",
    "\n",
    "2.  \n",
    "\n",
    "$~~~~~~~$(a) Het algemene stroompatroon wordt gegeven door:\n",
    "        $$\\begin{bmatrix}x_1\\\\x_2\\\\x_3\\\\x_4\\end{bmatrix} = \\begin{bmatrix}20\\\\x_4+20\\\\x_4-80\\\\x_4\\end{bmatrix}.$$\n",
    "        De kleinst mogelijke waarde van $x_4$ is 80.\n",
    "\n",
    "$~~~~~~~$(b) Het algemene stroompatroon wordt gegeven door:\n",
    "        $$\\begin{bmatrix}x_1\\\\x_2\\\\x_3\\\\x_4\\\\x_5\\\\x_6 \\end{bmatrix} = \\begin{bmatrix}x_6+60\\\\x_6-10\\\\x_6+90\\\\x_6\\\\x_6+80\\\\x_6\\end{bmatrix} = \\begin{bmatrix}x_4+60\\\\x_4-10\\\\x_4+90\\\\x_4\\\\x_4+80\\\\x_4\\end{bmatrix}.$$\n",
    "        De kleinst mogelijke waarde van $x_4$ is 10.\n",
    "\n",
    "3.\n",
    "\n",
    "$~~~~~~~$(a) Het algemene stroompatroon wordt gegeven door:\n",
    "        $$\\begin{bmatrix}x_1\\\\x_2\\\\x_3\\\\x_4\\\\x_5\\\\x_6\\end{bmatrix} = \\begin{bmatrix}x_3-40\\\\x_3+10\\\\x_3\\\\x_6+50\\\\x_6+60\\\\x_6\\end{bmatrix}.$$\n",
    "\n",
    "$~~~~~~~$(b) De kleinst mogelijke waarden zijn $x_2=50$, $x_3=40$, $x_4=50$\n",
    "        en $x_5=60$.\n",
    "\n",
    "4.\n",
    "$~~~~~~~$(a) 2Al$_2$O$_3$ + 3C$\\; \\rightarrow  \\;$4Al + 3CO$_2$\n",
    "\n",
    "$~~~~~~~$(b) 2H$_3$O + CaCO$_3 \\; \\rightarrow  \\;$3H$_2$O + Ca + CO$_2$\n",
    "\n",
    "$~~~~~~~$(c) 4FeS$_2$ + 11O$_2 \\;\\rightarrow\\;$2Fe$_2$O$_3$ + 8SO$_2$\n",
    "\n",
    "$~~~~~~~$(d) 2Na$_3$PO$_4$ + 3Ba$\\left(\\text{NO}_3\\right)_2 \\;\\rightarrow\\;$\n",
    "        Ba$_3\\left(\\text{PO}_4\\right)_2$ + 6NaNO$_3$\n",
    "\n",
    "$~~~~~~~$(e) 2KMnO$_4$ + 3MnSO$_4$ + 2H$_2$O $\\;\\rightarrow\\;$ 5MnO$_2$ +\n",
    "        K$_2$SO$_4$ + 2H$_2$SO$_4$\n",
    "\n",
    "$~~~~~~~$(f) 15PbN$_6$ + 44CrMn$_2$O$_8$ $\\;\\rightarrow\\;$ 5Pb$_3$O$_4$ +\n",
    "        22Cr$_2$O$_3$ + 88MnO$_2$ + 90NO\n",
    "\n",
    "5.\n",
    "\n",
    "$~~~~~~~$(a) Matrix $B$ en vector $\\vec{u}$: $$B = \\begin{bmatrix}160 & 110 \\\\\n",
    "                    5 & 2 \\\\\n",
    "                    6 & 0.1 \\\\\n",
    "                    1 & 0.4\\end{bmatrix}\\qquad \\mbox{en}\\qquad {\\vec{u}}=\\begin{bmatrix}3\\\\2\\end{bmatrix}$$\n",
    "\n",
    "$~~~~~~~$(b) We hebben $0.4$ porties geraspte tarwe en $0.6$ porties Crispix nodig.\n",
    "\n",
    "6.  \n",
    "\n",
    "Matrixvergelijking:\n",
    "    $$\\begin{bmatrix} 4 & -1 & 0 & -1 \\\\ -1 & 4 & -1 & 0 \\\\ 0 & -1 & 4 & -1 \\\\ -1 & 0 & -1 & 4 \\end{bmatrix}\\begin{bmatrix}T_1\\\\T_2\\\\T_3\\\\T_4\\end{bmatrix} = \\begin{bmatrix} 30\\\\60\\\\70\\\\40\\end{bmatrix}\\quad\\Leftrightarrow\\quad \\begin{bmatrix}T_1\\\\T_2\\\\T_3\\\\T_4\\end{bmatrix} = \\begin{bmatrix}20\\\\27.5\\\\30\\\\22.5\\end{bmatrix}$$"
   ]
  }
 ],
 "metadata": {
  "kernelspec": {
   "display_name": "Python 3 (ipykernel)",
   "language": "python",
   "name": "python3"
  },
  "language_info": {
   "codemirror_mode": {
    "name": "ipython",
    "version": 3
   },
   "file_extension": ".py",
   "mimetype": "text/x-python",
   "name": "python",
   "nbconvert_exporter": "python",
   "pygments_lexer": "ipython3",
   "version": "3.10.6"
  }
 },
 "nbformat": 4,
 "nbformat_minor": 5
}
