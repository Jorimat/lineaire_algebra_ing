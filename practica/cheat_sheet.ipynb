{
 "cells": [
  {
   "cell_type": "markdown",
   "id": "3724e89a",
   "metadata": {},
   "source": [
    "Omzetting\n",
    "\n",
    "cellen code en md scheiden\n",
    "\n",
    "vectt -> vec\n",
    "\n",
    "\\bmat{...} -> \\begin{bmatrix} ... \\end{bmatrix}\n",
    "\n",
    "figuren en captions\n",
    "\n",
    "\n",
    "<!-- [\\[opd:circuit\\]]{#opd:circuit label=\"opd:circuit\"}\\ -->\n",
    "### Opdracht 1.2\n",
    "\n",
    "\n",
    "\n",
    "$$\\begin{align}\n",
    "    g &= \\int_a^b f(x)dx \\label{eq1}\\tag{1} \\\\\n",
    "    a &= b + c \\label{eq2}\\tag{2}\n",
    "\\end{align}\n",
    "$$\n",
    "See (\\ref{eq1}) and (\\ref{eq2})\n",
    "\n",
    "Tabellen\n",
    "|    |            |\n",
    "|----------|-------------|\n",
    "| col 1 is |  left-aligned |\n",
    "| col 2 is |    centered   |\n",
    "| col 3 is | right-aligned |\n",
    "\n",
    "\n",
    "\\quad    $~~~~$"
   ]
  }
 ],
 "metadata": {
  "kernelspec": {
   "display_name": "Python 3 (ipykernel)",
   "language": "python",
   "name": "python3"
  },
  "language_info": {
   "codemirror_mode": {
    "name": "ipython",
    "version": 3
   },
   "file_extension": ".py",
   "mimetype": "text/x-python",
   "name": "python",
   "nbconvert_exporter": "python",
   "pygments_lexer": "ipython3",
   "version": "3.10.6"
  }
 },
 "nbformat": 4,
 "nbformat_minor": 5
}
